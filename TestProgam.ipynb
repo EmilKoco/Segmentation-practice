{
 "cells": [
  {
   "cell_type": "markdown",
   "metadata": {},
   "source": [
    "## Testing of the TotalSegmentator"
   ]
  },
  {
   "cell_type": "code",
   "execution_count": 1,
   "metadata": {},
   "outputs": [],
   "source": [
    "#Imports\n",
    "import nibabel as nib\n",
    "from totalsegmentator.python_api import totalsegmentator\n",
    "import os\n",
    "import ipywidgets as widgets\n",
    "from IPython.display import display\n",
    "import numpy as np\n",
    "from ipywidgets import interact, HBox, VBox, widgets\n",
    "import cv2\n",
    "from scipy.ndimage import binary_fill_holes, label, center_of_mass"
   ]
  },
  {
   "cell_type": "markdown",
   "metadata": {},
   "source": [
    "### The segmentation using totalsegmentator"
   ]
  },
  {
   "cell_type": "code",
   "execution_count": 2,
   "metadata": {},
   "outputs": [
    {
     "name": "stdout",
     "output_type": "stream",
     "text": [
      "['vertebrae_C1', 'vertebrae_C2', 'vertebrae_C3', 'vertebrae_C4', 'vertebrae_C5', 'vertebrae_C6', 'vertebrae_C7', 'vertebrae_T1', 'vertebrae_T2', 'vertebrae_T3', 'vertebrae_T4', 'vertebrae_T5', 'vertebrae_T6', 'vertebrae_T7', 'vertebrae_T8', 'vertebrae_T9', 'vertebrae_T10', 'vertebrae_T11', 'vertebrae_T12', 'vertebrae_L1', 'vertebrae_L2', 'vertebrae_L3', 'vertebrae_L4', 'vertebrae_L5', 'vertebrae_S1']\n"
     ]
    }
   ],
   "source": [
    "labels = None\n",
    "with open(\"Labels.txt\", 'r') as file:\n",
    "    labels = [line.rstrip() for line in file]\n",
    "print(labels)"
   ]
  },
  {
   "cell_type": "code",
   "execution_count": 13,
   "metadata": {},
   "outputs": [
    {
     "name": "stderr",
     "output_type": "stream",
     "text": [
      "100%|██████████| 12/12 [00:19<00:00,  1.64s/it]\n",
      "100%|██████████| 4/4 [00:53<00:00, 13.27s/it]\n"
     ]
    }
   ],
   "source": [
    "dir = os.getcwd()\n",
    "Segmentation_file_path = dir + \"/Data/s0011/Segmentation_output.nii.gz\"\n",
    "if not os.path.exists(Segmentation_file_path):\n",
    "    with open(Segmentation_file_path, 'w') as fp:\n",
    "      pass\n",
    "print(os.path.exists(Segmentation_file_path))\n",
    "input_file_path = dir + \"/Data/s0011/ct.nii.gz\"\n",
    "print(os.path.exists(input_file_path))\n",
    "\n",
    "\n",
    "input_img = nib.load(input_file_path)\n",
    "Segmentation_output = totalsegmentator(input_img, roi_subset=labels)\n",
    "nib.save(Segmentation_output, Segmentation_file_path)\n",
    "del Segmentation_output, input_img"
   ]
  },
  {
   "cell_type": "markdown",
   "metadata": {},
   "source": [
    "# Slice rendering of segmentation\n",
    "which is easier to use"
   ]
  },
  {
   "cell_type": "code",
   "execution_count": 3,
   "metadata": {},
   "outputs": [],
   "source": [
    "def crop_image(out_im):\n",
    "    non_zero_slices = [i for i in range(out_im.shape[0]) if np.any(out_im[i, :, :])]\n",
    "    sagital_start = non_zero_slices[0] #Used for image reconstruction\n",
    "    filtered = out_im[non_zero_slices, :, :]\n",
    "    non_zero_slices = [i for i in range(filtered.shape[1]) if np.any(filtered[:, i, :])]\n",
    "    frontal_start = non_zero_slices[0] #Used for image reconstruction\n",
    "    filtered = filtered[:, non_zero_slices, :]\n",
    "    non_zero_slices = [i for i in range(filtered.shape[2]) if np.any(filtered[:, :, i])]\n",
    "    transversal_start = non_zero_slices[0] #Used for image reconstruction\n",
    "    filtered = filtered[:, :, non_zero_slices]\n",
    "\n",
    "\n",
    "    return filtered, sagital_start, frontal_start, transversal_start"
   ]
  },
  {
   "cell_type": "code",
   "execution_count": 4,
   "metadata": {},
   "outputs": [],
   "source": [
    "def read_data(path = \"/Data/s0011/Segmentation_output.nii.gz\"):\n",
    "    dir = os.getcwd()\n",
    "    if os.path.exists(dir + path):\n",
    "        output_img_new = nib.load(dir + path)\n",
    "    else:\n",
    "        print(\"No file found\")\n",
    "\n",
    "    # Convert to NumPy array\n",
    "    output_img_data = np.array(output_img_new.dataobj)\n",
    "    return output_img_new, output_img_data"
   ]
  },
  {
   "cell_type": "code",
   "execution_count": 5,
   "metadata": {},
   "outputs": [
    {
     "name": "stdout",
     "output_type": "stream",
     "text": [
      "Original number of slices: 311\n",
      "Number of slices after filtering: 59\n"
     ]
    },
    {
     "data": {
      "application/vnd.jupyter.widget-view+json": {
       "model_id": "31837c0d85d443a49937d26b61217ce7",
       "version_major": 2,
       "version_minor": 0
      },
      "text/plain": [
       "interactive(children=(IntSlider(value=29, description='slice_index', max=58), Output()), _dom_classes=('widget…"
      ]
     },
     "metadata": {},
     "output_type": "display_data"
    },
    {
     "data": {
      "text/plain": [
       "<function __main__.plot_sagittal(slice_index)>"
      ]
     },
     "execution_count": 5,
     "metadata": {},
     "output_type": "execute_result"
    }
   ],
   "source": [
    "import numpy as np\n",
    "import matplotlib.pyplot as plt\n",
    "from ipywidgets import interact\n",
    "import SimpleITK as sitk\n",
    "\n",
    "#Resets the matplotlib, since totalSegmentator messes with the output\n",
    "plt.close('all')\n",
    "plt.switch_backend('module://ipykernel.pylab.backend_inline')\n",
    "\n",
    "output_img_nifti, output_img_data = read_data()\n",
    "\n",
    "filtered_data,_,_,_ = crop_image(output_img_data)\n",
    "\n",
    "print(f\"Original number of slices: {output_img_data.shape[0]}\")\n",
    "print(f\"Number of slices after filtering: {filtered_data.shape[0]}\")\n",
    "\n",
    "# Define a function to plot sagittal slices\n",
    "def plot_sagittal(slice_index):\n",
    "    plt.figure(figsize=(8, 8))\n",
    "\n",
    "    # Sagittal slice (fixing the first axis, after flipping)\n",
    "    plt.imshow(filtered_data[slice_index, :, :], cmap='gray')\n",
    "    plt.title(f\"Sagittal Slice {slice_index}\")\n",
    "    plt.axis('off')\n",
    "\n",
    "    plt.show()\n",
    "    plt.close()  # Close the figure to avoid warning and memory issues\n",
    "\n",
    "# Create an interactive slider for sagittal slices\n",
    "interact(plot_sagittal, slice_index=(0, filtered_data.shape[0] - 1))\n"
   ]
  },
  {
   "cell_type": "markdown",
   "metadata": {},
   "source": [
    "# Vertebra body extraction"
   ]
  },
  {
   "cell_type": "code",
   "execution_count": 125,
   "metadata": {},
   "outputs": [],
   "source": [
    "\n",
    "def plot_segmentation(vis_arr, value=-1):\n",
    "\n",
    "    #There might be some other way to define the functions outside of plot_segmentation.\n",
    "    #But for now I do not care and this works.\n",
    "    def plot_sagittal(slice_index):\n",
    "        plt.figure(figsize=(8, 8))\n",
    "\n",
    "        # Sagittal slice (fixing the first axis, after flipping)\n",
    "        plt.imshow(vis_arr[slice_index, :, :], cmap='gray')\n",
    "        plt.title(f\"Area of Slice {count_per_sagital_slice[slice_index]}\")\n",
    "        plt.axis('off')\n",
    "\n",
    "        plt.show()\n",
    "        plt.close()  # Close the figure to avoid warning and memory issues\n",
    "\n",
    "    def plot_frontal(slice_index):\n",
    "        plt.figure(figsize=(8, 8))\n",
    "\n",
    "        # Sagittal slice (fixing the first axis, after flipping)\n",
    "        plt.imshow(vis_arr[:, slice_index, :], cmap='gray')\n",
    "        plt.title(f\"Area of Slice {count_per_frontal_slice[slice_index]}\")\n",
    "        plt.axis('off')\n",
    "\n",
    "        plt.show()\n",
    "        plt.close()  # Close the figure to avoid warning and memory issues\n",
    "\n",
    "    def plot_transversal(slice_index):\n",
    "        plt.figure(figsize=(8, 8))\n",
    "\n",
    "        # Sagittal slice (fixing the first axis, after flipping)\n",
    "        plt.imshow(vis_arr[:, :, slice_index], cmap='gray')\n",
    "        plt.title(f\"Area of Slice {count_per_transversal_slice[slice_index]}\")\n",
    "        plt.axis('off')\n",
    "\n",
    "        plt.show()\n",
    "        plt.close()  # Close the figure to avoid warning and memory issues\n",
    "\n",
    "\n",
    "    #Get the area in each slice\n",
    "    if value != -1:\n",
    "        count_per_sagital_slice = np.sum(vis_arr == value, axis=(1, 2))\n",
    "        count_per_frontal_slice = np.sum(vis_arr == value, axis=(0, 2))\n",
    "        count_per_transversal_slice = np.sum(vis_arr == value, axis=(0, 1))\n",
    "    else:\n",
    "        values = np.unique(vis_arr)\n",
    "        print(values)\n",
    "        values = values[1:]\n",
    "        print(values)\n",
    "        print(vis_arr.shape)\n",
    "        count_per_sagital_slice_list = {}\n",
    "        count_per_frontal_slice_list = {}\n",
    "        count_per_transversal_slice_list = {}\n",
    "        for val in values:\n",
    "            count_per_sagital_slice_list[val] = np.sum(vis_arr == values[val], axis=(1, 2))\n",
    "            count_per_frontal_slice_list[val] = np.sum(vis_arr == values[val], axis=(0, 2))\n",
    "            count_per_transversal_slice_list[val] = np.sum(vis_arr == values[val], axis=(0, 1))\n",
    "        count_per_sagital_slice = np.sum(list(count_per_sagital_slice_list.values()), axis=0)\n",
    "        count_per_frontal_slice = np.sum(list(count_per_frontal_slice_list.values()), axis=0)\n",
    "        count_per_transversal_slice = np.sum(list(count_per_transversal_slice_list.values()), axis=0)\n",
    "\n",
    "\n",
    "\n",
    "    #Find the maximum point for alls lices\n",
    "    max_sag = np.argmax(count_per_sagital_slice)\n",
    "    max_front = np.argmax(count_per_frontal_slice)\n",
    "    max_trans = np.argmax(count_per_transversal_slice)\n",
    "\n",
    "    # Create interactive sliders\n",
    "    sagittal_slider = widgets.IntSlider(min=0, max=vis_arr.shape[0] - 1, value=max_sag, description=\"Sagittal\")\n",
    "    frontal_slider = widgets.IntSlider(min=0, max=vis_arr.shape[1] - 1, value=max_front, description=\"Frontal\")\n",
    "    transversal_slider = widgets.IntSlider(min=0, max=vis_arr.shape[2] - 1, value=max_trans, description=\"Transversal\")\n",
    "\n",
    "    # Create interactive plots\n",
    "    sagittal_plot = widgets.interactive_output(plot_sagittal, {'slice_index': sagittal_slider})\n",
    "    frontal_plot = widgets.interactive_output(plot_frontal, {'slice_index': frontal_slider})\n",
    "    transversal_plot = widgets.interactive_output(plot_transversal, {'slice_index': transversal_slider})\n",
    "\n",
    "    # Arrange widgets in a horizontal box\n",
    "    ui = HBox([\n",
    "        VBox([sagittal_slider, sagittal_plot]),\n",
    "        VBox([frontal_slider, frontal_plot]),\n",
    "        VBox([transversal_slider, transversal_plot])\n",
    "    ])\n",
    "\n",
    "    display(ui)\n",
    "    "
   ]
  },
  {
   "cell_type": "code",
   "execution_count": 159,
   "metadata": {},
   "outputs": [],
   "source": [
    "from scipy.interpolate import UnivariateSpline\n",
    "\n",
    "def refine_hole_location(intensity_profile):\n",
    "    \"\"\"\n",
    "    Use cubic spline interpolation to smooth out the hole detection\n",
    "    and find a more centered transversal slice.\n",
    "    \"\"\"\n",
    "    x = np.arange(len(intensity_profile))  # Slice indices\n",
    "    spline = UnivariateSpline(x, intensity_profile, k=3, s=1)  # Smooth spline fit\n",
    "    refined_idx = np.argmax(spline(x))  # Find the best refined peak\n",
    "    return int(refined_idx)\n",
    "\n",
    "\n",
    "def find_holes(binary_image_arg, start_index, axis=2, target_holes=1, invers=False):\n",
    "    \"\"\"Find holes in the given axis and return hole centers.\"\"\"\n",
    "    for slice_index in range(int(binary_image_arg.shape[axis] / 2)):\n",
    "        for i in [0, 2, 1]:\n",
    "            index = int(start_index + slice_index * ((-1) ** i))\n",
    "            binary_image_slice = binary_image_arg.take(index, axis=axis)\n",
    "            \n",
    "            if invers:\n",
    "                holes = binary_fill_holes(binary_image_slice) & ~binary_image_slice\n",
    "            else:\n",
    "                holes = binary_fill_holes(binary_image_slice) & binary_image_slice\n",
    "\n",
    "            labeled_holes, num_holes = label(holes)\n",
    "\n",
    "            if num_holes >= target_holes:\n",
    "                print(f\"Slice start: {start_index}, slice index: {slice_index}, direction: {(-1) ** i}\")\n",
    "                return holes, labeled_holes, index, center_of_mass(holes, labeled_holes, range(1, num_holes + 1))\n",
    "\n",
    "    print(f\"There were too few vertebrae for this label in the {'transversal' if axis == 2 else 'frontal'} slice\")\n",
    "    return None, None, None, None\n",
    "\n",
    "def hole_find(binary_image_arg, plot=False):\n",
    "    # Find the slice with the most foreground pixels\n",
    "    #start_index = np.argmax(np.sum(binary_image_arg == 1, axis=(0, 1)))\n",
    "    #start_index = int(binary_image_arg.shape[2]/2)\n",
    "    intensity_profile = np.sum(binary_image_arg, axis=(1, 2))\n",
    "    start_index = refine_hole_location(intensity_profile)\n",
    "\n",
    "    # Find the transverse holes\n",
    "    holes, labeled_holes, transversal_index, hole_centers = find_holes(binary_image_arg, start_index, axis=2, target_holes=1, invers=True)\n",
    "    if holes is None:\n",
    "        return None, None\n",
    "    hole_centers = [(round(x), round(y)) for x, y in hole_centers] #Round down the center points to ints\n",
    "\n",
    "    # Find the frontal holes using the first hole's center as a starting point\n",
    "    start_index = hole_centers[0][1]\n",
    "    holes_frontal, labeled_holes_frontal, frontal_index, hole_centers_frontal = find_holes(binary_image_arg, start_index, axis=1, target_holes=2, invers=False)\n",
    "    if holes_frontal is None:\n",
    "        return None, None\n",
    "    hole_centers_frontal = [(round(x), round(y)) for x, y in hole_centers_frontal]\n",
    "\n",
    "    if plot:\n",
    "        # Plot transversal holes\n",
    "        plt.imshow(holes, cmap='gray')\n",
    "        plt.title(\"Binary Image with Transversal Holes\")\n",
    "        for y, x in hole_centers:\n",
    "            plt.plot(x, y, 'ro', markersize=6)\n",
    "        plt.show()\n",
    "\n",
    "        print(f\"Number of holes found: {len(hole_centers)}\")\n",
    "        print(f\"Hole centers: {hole_centers}\")\n",
    "\n",
    "        # Plot frontal holes\n",
    "        plt.imshow(holes_frontal, cmap='gray')\n",
    "        plt.title(\"Binary Image with Frontal Holes\")\n",
    "        for y, x in hole_centers_frontal:\n",
    "            plt.plot(x, y, 'ro', markersize=6)\n",
    "        plt.show()\n",
    "\n",
    "        print(f\"Number of holes found: {len(hole_centers_frontal)}\")\n",
    "        print(f\"Hole centers: {hole_centers_frontal}\")\n",
    "    \n",
    "    #Format return\n",
    "    return_holes = []\n",
    "    return_holes_frontal = []\n",
    "    for hole in hole_centers:\n",
    "        return_holes.append([hole[0], hole[1], transversal_index])\n",
    "    for hole in hole_centers_frontal:\n",
    "        return_holes_frontal.append([hole[0], frontal_index, hole[1]])\n",
    "\n",
    "    return return_holes,return_holes_frontal\n"
   ]
  },
  {
   "cell_type": "code",
   "execution_count": 128,
   "metadata": {},
   "outputs": [],
   "source": [
    "def cut_body(new_arr, value, plot=False):\n",
    "    #Crop the image for the vertebra\n",
    "    temp, sagital_start, frontal_start, transversal_start = crop_image(new_arr)\n",
    "\n",
    "    # Example binary image (object with holes)\n",
    "    binary_image = (temp == value).astype(np.uint8) * 1\n",
    "\n",
    "    #For frontal they are organised (Sagital slice, Transversal)\n",
    "    #For transversal they are organised (Sagital, Frontal)\n",
    "    transversal_holes,_ = hole_find(binary_image, plot)\n",
    "    if transversal_holes == None:\n",
    "        return temp, sagital_start, frontal_start, transversal_start \n",
    "\n",
    "    temp[:,0:int(np.floor(transversal_holes[0][1])),:] = 0\n",
    "    return temp, sagital_start, frontal_start, transversal_start\n",
    "\n",
    "def restore_array(original_array, cut_array, sagital_start, frontal_start, transversal_start, value):\n",
    "    return_array = np.copy(original_array)\n",
    "    sagital_end = sagital_start + cut_array.shape[0]\n",
    "    frontal_end = frontal_start + cut_array.shape[1]\n",
    "    transversal_end = transversal_start + cut_array.shape[2]\n",
    "\n",
    "    mask = (return_array[sagital_start:sagital_end, frontal_start:frontal_end, transversal_start:transversal_end] == value)\n",
    "    return_array[sagital_start:sagital_end, frontal_start:frontal_end, transversal_start:transversal_end][mask] = cut_array[mask]\n",
    "\n",
    "    return return_array\n"
   ]
  },
  {
   "cell_type": "code",
   "execution_count": 147,
   "metadata": {},
   "outputs": [],
   "source": [
    "import numpy as np\n",
    "\n",
    "def fit_plane(points):\n",
    "    \"\"\" Fit a plane to three points using least squares. \"\"\"\n",
    "    points = np.array(points)\n",
    "    centroid = points.mean(axis=0)  # Compute centroid of the three points\n",
    "    _, _, vh = np.linalg.svd(points - centroid)\n",
    "    normal = vh[2]  # The last row of Vh is the normal to the best-fit plane\n",
    "    if normal[1] < 0:\n",
    "        normal = normal * -1\n",
    "    return normal, centroid\n",
    "\n",
    "def point_to_plane_dist(point, normal, centroid):\n",
    "    \"\"\" Compute the signed distance from a point to the plane. \"\"\"\n",
    "    return np.dot(point - centroid, normal)\n",
    "\n",
    "def remove_back_part(volume, center, conn1, conn2):\n",
    "    \"\"\" \n",
    "    Cut the vertebra along the plane defined by the center hole and connection points.\n",
    "    \"\"\"\n",
    "    # Fit the cutting plane\n",
    "    normal, centroid = fit_plane([center, conn1, conn2])\n",
    "    print(normal)\n",
    "    print(centroid)\n",
    "\n",
    "    # Generate voxel coordinates\n",
    "    coords = np.indices(volume.shape).reshape(3, -1).T  # Shape: (N, 3) for all voxels\n",
    "    distances = np.dot(coords - centroid, normal)  # Compute distances of all points to plane\n",
    "\n",
    "    # Mask for voxels behind the plane\n",
    "    mask = distances < 0  # True for voxels to be removed\n",
    "\n",
    "    # Apply cut only where the vertebra exists (where value == 30)\n",
    "    volume[np.reshape(mask, volume.shape)] = 0  # Set cut voxels to 0\n",
    "\n",
    "    return volume\n"
   ]
  },
  {
   "cell_type": "code",
   "execution_count": 160,
   "metadata": {},
   "outputs": [
    {
     "name": "stdout",
     "output_type": "stream",
     "text": [
      "Slice start: 21, slice index: 1, direction: 1\n",
      "Slice start: 35, slice index: 10, direction: -1\n"
     ]
    },
    {
     "data": {
      "image/png": "[encoded data removed]",
      "text/plain": [
       "<Figure size 640x480 with 1 Axes>"
      ]
     },
     "metadata": {},
     "output_type": "display_data"
    },
    {
     "name": "stdout",
     "output_type": "stream",
     "text": [
      "Number of holes found: 1\n",
      "Hole centers: [(19, 35)]\n"
     ]
    },
    {
     "data": {
      "image/png": "[encoded data removed]",
      "text/plain": [
       "<Figure size 640x480 with 1 Axes>"
      ]
     },
     "metadata": {},
     "output_type": "display_data"
    },
    {
     "name": "stdout",
     "output_type": "stream",
     "text": [
      "Number of holes found: 2\n",
      "Hole centers: [(14, 28), (26, 29)]\n",
      "[[19, 35, 22]]\n",
      "[[14, 25, 28], [26, 25, 29]]\n",
      "[-0.06996429  0.53872505  0.83957151]\n",
      "[19.66666667 28.33333333 26.33333333]\n",
      "(40, 48, 44)\n"
     ]
    },
    {
     "data": {
      "application/vnd.jupyter.widget-view+json": {
       "model_id": "d42c2b8644594ee182a2754a68f7c628",
       "version_major": 2,
       "version_minor": 0
      },
      "text/plain": [
       "HBox(children=(VBox(children=(IntSlider(value=14, description='Sagittal', max=39), Output())), VBox(children=(…"
      ]
     },
     "metadata": {},
     "output_type": "display_data"
    }
   ],
   "source": [
    "#Testing cell\n",
    "output_img_info, output_img_data = read_data()\n",
    "value = 36\n",
    "array = (output_img_data == value).astype(np.uint8) * value\n",
    "temp, sagital_start, frontal_start, transversal_start = crop_image(array)\n",
    "\n",
    "# Example binary image (object with holes)\n",
    "binary_image = (temp == value).astype(np.uint8) * 1\n",
    "\n",
    "#For frontal they are organised (Sagital slice, Transversal)\n",
    "#For transversal they are organised (Sagital, Frontal)\n",
    "transversal_holes,frontal_holes = hole_find(binary_image, True)\n",
    "print(transversal_holes)\n",
    "print(frontal_holes)\n",
    "\n",
    "modified_vertebra = remove_back_part(binary_image, transversal_holes[0], frontal_holes[0], frontal_holes[1])\n",
    "print(modified_vertebra.shape)\n",
    "plot_segmentation(modified_vertebra, value=1)"
   ]
  },
  {
   "cell_type": "code",
   "execution_count": null,
   "metadata": {},
   "outputs": [],
   "source": [
    "#Testing cell\n",
    "output_img_nifti, output_img_data = read_data()\n",
    "values = np.unique(output_img_data)\n",
    "values = values[1:]\n",
    "for value in values:\n",
    "    print(value)\n",
    "    array = (output_img_data == value).astype(np.uint8) * value\n",
    "    temp, sagital_start, frontal_start, transversal_start = crop_image(array)\n",
    "    print(temp.shape)\n",
    "\n",
    "    # Example binary image (object with holes)\n",
    "    binary_image = (temp == value).astype(np.uint8) * 1\n",
    "    print(binary_image.shape)\n",
    "\n",
    "    #For frontal they are organised (Sagital slice, Transversal)\n",
    "    #For transversal they are organised (Sagital, Frontal)\n",
    "    transversal_holes,frontal_holes = hole_find(binary_image, False)\n",
    "    print(transversal_holes)\n",
    "    print(frontal_holes)\n",
    "\n",
    "    if transversal_holes == None:\n",
    "        print(\"Broken\")\n",
    "        output_img_data = restore_array(output_img_data, temp, sagital_start, frontal_start, transversal_start, value)\n",
    "        break\n",
    "\n",
    "\n",
    "    temp = remove_back_part(temp, transversal_holes[0], frontal_holes[0], frontal_holes[1])\n",
    "    output_img_data = restore_array(output_img_data, temp, sagital_start, frontal_start, transversal_start, value)\n",
    "plot_segmentation(output_img_data, value=30)"
   ]
  },
  {
   "cell_type": "code",
   "execution_count": 161,
   "metadata": {},
   "outputs": [
    {
     "data": {
      "application/vnd.jupyter.widget-view+json": {
       "model_id": "8fb5fb60032244599cb803e0e3209668",
       "version_major": 2,
       "version_minor": 0
      },
      "text/plain": [
       "HBox(children=(VBox(children=(IntSlider(value=22, description='Sagittal', max=42), Output())), VBox(children=(…"
      ]
     },
     "metadata": {},
     "output_type": "display_data"
    }
   ],
   "source": [
    "#Test cell\n",
    "output_img_info, output_img_data = read_data()\n",
    "value = 37\n",
    "array = (output_img_data == value).astype(np.uint8) * value\n",
    "tmp, sagital_start, frontal_start, transversal_start = crop_image(array)\n",
    "plot_segmentation(tmp, value)"
   ]
  },
  {
   "cell_type": "code",
   "execution_count": 155,
   "metadata": {},
   "outputs": [
    {
     "name": "stdout",
     "output_type": "stream",
     "text": [
      "Slice start: 22, slice index: 0, direction: 1\n",
      "Slice start: 35, slice index: 10, direction: -1\n"
     ]
    },
    {
     "data": {
      "image/png": "[encoded data removed]",
      "text/plain": [
       "<Figure size 640x480 with 1 Axes>"
      ]
     },
     "metadata": {},
     "output_type": "display_data"
    },
    {
     "name": "stdout",
     "output_type": "stream",
     "text": [
      "Number of holes found: 1\n",
      "Hole centers: [(19, 35)]\n"
     ]
    },
    {
     "data": {
      "image/png": "[encoded data removed]",
      "text/plain": [
       "<Figure size 640x480 with 1 Axes>"
      ]
     },
     "metadata": {},
     "output_type": "display_data"
    },
    {
     "name": "stdout",
     "output_type": "stream",
     "text": [
      "Number of holes found: 2\n",
      "Hole centers: [(14, 28), (26, 29)]\n"
     ]
    },
    {
     "data": {
      "application/vnd.jupyter.widget-view+json": {
       "model_id": "16dc9cdd33a04e69a37a7b54f86bb70f",
       "version_major": 2,
       "version_minor": 0
      },
      "text/plain": [
       "HBox(children=(VBox(children=(IntSlider(value=22, description='Sagittal', max=39), Output())), VBox(children=(…"
      ]
     },
     "metadata": {},
     "output_type": "display_data"
    }
   ],
   "source": [
    "#Real working cell\n",
    "output_img_info, output_img_data = read_data()\n",
    "value = 36\n",
    "array = (output_img_data == value).astype(np.uint8) * value\n",
    "tmp, sagital_start, frontal_start, transversal_start = cut_body(array, value, plot=True)\n",
    "plot_segmentation(tmp, value)\n",
    "tmp2 = restore_array(output_img_data, tmp, sagital_start, frontal_start, transversal_start, value)\n",
    "plot_segmentation(tmp2, value)"
   ]
  },
  {
   "cell_type": "code",
   "execution_count": null,
   "metadata": {},
   "outputs": [],
   "source": [
    "output_img_nifti, output_img_data = read_data()\n",
    "values = np.unique(output_img_data)\n",
    "values = values[1:]\n",
    "for value in values:\n",
    "    print(value)\n",
    "    array = (output_img_data == value).astype(np.uint8) * value\n",
    "    tmp, sagital_start, frontal_start, transversal_start = cut_body(array, value, plot=True)\n",
    "    output_img_data = restore_array(output_img_data, tmp, sagital_start, frontal_start, transversal_start, value)\n",
    "plot_segmentation(output_img_data, value=30)"
   ]
  },
  {
   "cell_type": "code",
   "execution_count": 48,
   "metadata": {},
   "outputs": [
    {
     "data": {
      "application/vnd.jupyter.widget-view+json": {
       "model_id": "453c82854f6f47b4b41f4f037ebcf275",
       "version_major": 2,
       "version_minor": 0
      },
      "text/plain": [
       "HBox(children=(VBox(children=(IntSlider(value=152, description='Sagittal', max=310), Output())), VBox(children…"
      ]
     },
     "metadata": {},
     "output_type": "display_data"
    }
   ],
   "source": [
    "data = read_data()\n",
    "value=30\n",
    "array = (output_img_data == value).astype(np.uint8) * value\n",
    "#array,_,_,_ = crop_image(array)\n",
    "plot_segmentation(array, value)"
   ]
  },
  {
   "cell_type": "markdown",
   "metadata": {},
   "source": [
    "### Save results"
   ]
  },
  {
   "cell_type": "code",
   "execution_count": 71,
   "metadata": {},
   "outputs": [
    {
     "name": "stdout",
     "output_type": "stream",
     "text": [
      "(311, 311, 431)\n"
     ]
    }
   ],
   "source": [
    "print(output_img_data.shape)\n",
    "nii_img = nib.Nifti1Image(output_img_data, affine=np.eye(4))  # Identity matrix as default affine\n",
    "\n",
    "# Save the NIfTI file\n",
    "nib.save(nii_img, r'Data\\\\s0011\\\\Cropped_segmentation.nii')"
   ]
  }
 ],
 "metadata": {
  "kernelspec": {
   "display_name": "TotalSegmentator",
   "language": "python",
   "name": "python3"
  },
  "language_info": {
   "codemirror_mode": {
    "name": "ipython",
    "version": 3
   },
   "file_extension": ".py",
   "mimetype": "text/x-python",
   "name": "python",
   "nbconvert_exporter": "python",
   "pygments_lexer": "ipython3",
   "version": "3.12.3"
  }
 },
 "nbformat": 4,
 "nbformat_minor": 4
}
