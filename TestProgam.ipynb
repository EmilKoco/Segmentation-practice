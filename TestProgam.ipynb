{
 "cells": [
  {
   "cell_type": "markdown",
   "metadata": {},
   "source": [
    "## Testing of the TotalSegmentator"
   ]
  },
  {
   "cell_type": "code",
   "execution_count": 1,
   "metadata": {},
   "outputs": [],
   "source": [
    "#Imports\n",
    "import nibabel as nib\n",
    "from totalsegmentator.python_api import totalsegmentator\n",
    "import os\n",
    "import ipywidgets as widgets\n",
    "from IPython.display import display\n",
    "import numpy as np\n",
    "from ipywidgets import interact, HBox, VBox, widgets\n",
    "import cv2\n",
    "from scipy.ndimage import binary_fill_holes, label, center_of_mass"
   ]
  },
  {
   "cell_type": "markdown",
   "metadata": {},
   "source": [
    "### The segmentation using totalsegmentator"
   ]
  },
  {
   "cell_type": "code",
   "execution_count": 11,
   "metadata": {},
   "outputs": [],
   "source": [
    "labels = None\n",
    "with open(\"Labels.txt\", 'r') as file:\n",
    "    labels = [line.rstrip() for line in file]\n",
    "print(labels)"
   ]
  },
  {
   "cell_type": "code",
   "execution_count": 13,
   "metadata": {},
   "outputs": [
    {
     "name": "stderr",
     "output_type": "stream",
     "text": [
      "100%|██████████| 12/12 [00:19<00:00,  1.64s/it]\n",
      "100%|██████████| 4/4 [00:53<00:00, 13.27s/it]\n"
     ]
    }
   ],
   "source": [
    "dir = os.getcwd()\n",
    "Segmentation_file_path = dir + \"/Data/s0011/Segmentation_output.nii.gz\"\n",
    "if not os.path.exists(Segmentation_file_path):\n",
    "    with open(Segmentation_file_path, 'w') as fp:\n",
    "      pass\n",
    "print(os.path.exists(Segmentation_file_path))\n",
    "input_file_path = dir + \"/Data/s0011/ct.nii.gz\"\n",
    "print(os.path.exists(input_file_path))\n",
    "\n",
    "\n",
    "input_img = nib.load(input_file_path)\n",
    "Segmentation_output = totalsegmentator(input_img, roi_subset=labels)\n",
    "nib.save(Segmentation_output, Segmentation_file_path)\n",
    "del Segmentation_output, input_img"
   ]
  },
  {
   "cell_type": "markdown",
   "metadata": {},
   "source": [
    "# Slice rendering of segmentation\n",
    "which is easier to use"
   ]
  },
  {
   "cell_type": "code",
   "execution_count": 2,
   "metadata": {},
   "outputs": [],
   "source": [
    "def crop_image(out_im):\n",
    "    non_zero_slices = [i for i in range(out_im.shape[0]) if np.any(out_im[i, :, :])]\n",
    "    sagital_start = non_zero_slices[0] #Used for image reconstruction\n",
    "    filtered = out_im[non_zero_slices, :, :]\n",
    "    non_zero_slices = [i for i in range(filtered.shape[1]) if np.any(filtered[:, i, :])]\n",
    "    frontal_start = non_zero_slices[0] #Used for image reconstruction\n",
    "    filtered = filtered[:, non_zero_slices, :]\n",
    "    non_zero_slices = [i for i in range(filtered.shape[2]) if np.any(filtered[:, :, i])]\n",
    "    transversal_start = non_zero_slices[0] #Used for image reconstruction\n",
    "    filtered = filtered[:, :, non_zero_slices]\n",
    "\n",
    "\n",
    "    return filtered, sagital_start, frontal_start, transversal_start"
   ]
  },
  {
   "cell_type": "code",
   "execution_count": 36,
   "metadata": {},
   "outputs": [],
   "source": [
    "def read_data(path = \"/Data/s0011/Segmentation_output.nii.gz\"):\n",
    "    dir = os.getcwd()\n",
    "    if os.path.exists(dir + path):\n",
    "        output_img_new = nib.load(dir + path)\n",
    "    else:\n",
    "        print(\"No file found\")\n",
    "\n",
    "    # Convert to NumPy array\n",
    "    output_img_data = np.array(output_img_new.dataobj)\n",
    "    return output_img_data"
   ]
  },
  {
   "cell_type": "code",
   "execution_count": 37,
   "metadata": {},
   "outputs": [
    {
     "name": "stdout",
     "output_type": "stream",
     "text": [
      "Original number of slices: 311\n",
      "Number of slices after filtering: 59\n"
     ]
    },
    {
     "data": {
      "application/vnd.jupyter.widget-view+json": {
       "model_id": "c0f397bfbec04f1eaca1c4d6d4caf2f3",
       "version_major": 2,
       "version_minor": 0
      },
      "text/plain": [
       "interactive(children=(IntSlider(value=29, description='slice_index', max=58), Output()), _dom_classes=('widget…"
      ]
     },
     "metadata": {},
     "output_type": "display_data"
    },
    {
     "data": {
      "text/plain": [
       "<function __main__.plot_sagittal(slice_index)>"
      ]
     },
     "execution_count": 37,
     "metadata": {},
     "output_type": "execute_result"
    }
   ],
   "source": [
    "import numpy as np\n",
    "import matplotlib.pyplot as plt\n",
    "from ipywidgets import interact\n",
    "import SimpleITK as sitk\n",
    "\n",
    "#Resets the matplotlib, since totalSegmentator messes with the output\n",
    "plt.close('all')\n",
    "plt.switch_backend('module://ipykernel.pylab.backend_inline')\n",
    "\n",
    "output_img_data = read_data()\n",
    "\n",
    "filtered_data,_,_,_ = crop_image(output_img_data)\n",
    "\n",
    "print(f\"Original number of slices: {output_img_data.shape[0]}\")\n",
    "print(f\"Number of slices after filtering: {filtered_data.shape[0]}\")\n",
    "\n",
    "# Define a function to plot sagittal slices\n",
    "def plot_sagittal(slice_index):\n",
    "    plt.figure(figsize=(8, 8))\n",
    "\n",
    "    # Sagittal slice (fixing the first axis, after flipping)\n",
    "    plt.imshow(filtered_data[slice_index, :, :], cmap='gray')\n",
    "    plt.title(f\"Sagittal Slice {slice_index}\")\n",
    "    plt.axis('off')\n",
    "\n",
    "    plt.show()\n",
    "    plt.close()  # Close the figure to avoid warning and memory issues\n",
    "\n",
    "# Create an interactive slider for sagittal slices\n",
    "interact(plot_sagittal, slice_index=(0, filtered_data.shape[0] - 1))\n"
   ]
  },
  {
   "cell_type": "markdown",
   "metadata": {},
   "source": [
    "# Vertebra body extraction"
   ]
  },
  {
   "cell_type": "code",
   "execution_count": 20,
   "metadata": {},
   "outputs": [],
   "source": [
    "\n",
    "def plot_segmentation(vis_arr, value=-1):\n",
    "\n",
    "    #There might be some other way to define the functions outside of plot_segmentation.\n",
    "    #But for now I do not care and this works.\n",
    "    def plot_sagittal(slice_index):\n",
    "        plt.figure(figsize=(8, 8))\n",
    "\n",
    "        # Sagittal slice (fixing the first axis, after flipping)\n",
    "        plt.imshow(vis_arr[slice_index, :, :], cmap='gray')\n",
    "        plt.title(f\"Area of Slice {count_per_sagital_slice[slice_index]}\")\n",
    "        plt.axis('off')\n",
    "\n",
    "        plt.show()\n",
    "        plt.close()  # Close the figure to avoid warning and memory issues\n",
    "\n",
    "    def plot_frontal(slice_index):\n",
    "        plt.figure(figsize=(8, 8))\n",
    "\n",
    "        # Sagittal slice (fixing the first axis, after flipping)\n",
    "        plt.imshow(vis_arr[:, slice_index, :], cmap='gray')\n",
    "        plt.title(f\"Area of Slice {count_per_frontal_slice[slice_index]}\")\n",
    "        plt.axis('off')\n",
    "\n",
    "        plt.show()\n",
    "        plt.close()  # Close the figure to avoid warning and memory issues\n",
    "\n",
    "    def plot_transversal(slice_index):\n",
    "        plt.figure(figsize=(8, 8))\n",
    "\n",
    "        # Sagittal slice (fixing the first axis, after flipping)\n",
    "        plt.imshow(vis_arr[:, :, slice_index], cmap='gray')\n",
    "        plt.title(f\"Area of Slice {count_per_transversal_slice[slice_index]}\")\n",
    "        plt.axis('off')\n",
    "\n",
    "        plt.show()\n",
    "        plt.close()  # Close the figure to avoid warning and memory issues\n",
    "\n",
    "\n",
    "    #Get the area in each slice\n",
    "    if value != -1:\n",
    "        count_per_sagital_slice = np.sum(vis_arr == value, axis=(1, 2))\n",
    "        count_per_frontal_slice = np.sum(vis_arr == value, axis=(0, 2))\n",
    "        count_per_transversal_slice = np.sum(vis_arr == value, axis=(0, 1))\n",
    "    else:\n",
    "        values = np.unique(vis_arr)\n",
    "        values = values[1:]\n",
    "        count_per_sagital_slice_list = {}\n",
    "        count_per_frontal_slice_list = {}\n",
    "        count_per_transversal_slice_list = {}\n",
    "        for val in values:\n",
    "            count_per_sagital_slice_list[val] = np.sum(vis_arr == values[val], axis=(1, 2))\n",
    "            count_per_frontal_slice_list[val] = np.sum(vis_arr == values[val], axis=(0, 2))\n",
    "            count_per_transversal_slice_list[val] = np.sum(vis_arr == values[val], axis=(0, 1))\n",
    "        \n",
    "\n",
    "\n",
    "\n",
    "\n",
    "    #Find the maximum point for alls lices\n",
    "    max_sag = np.argmax(count_per_sagital_slice)\n",
    "    max_front = np.argmax(count_per_frontal_slice)\n",
    "    max_trans = np.argmax(count_per_transversal_slice)\n",
    "\n",
    "    # Create interactive sliders\n",
    "    sagittal_slider = widgets.IntSlider(min=0, max=vis_arr.shape[0] - 1, value=max_sag, description=\"Sagittal\")\n",
    "    frontal_slider = widgets.IntSlider(min=0, max=vis_arr.shape[1] - 1, value=max_front, description=\"Frontal\")\n",
    "    transversal_slider = widgets.IntSlider(min=0, max=vis_arr.shape[2] - 1, value=max_trans, description=\"Transversal\")\n",
    "\n",
    "    # Create interactive plots\n",
    "    sagittal_plot = widgets.interactive_output(plot_sagittal, {'slice_index': sagittal_slider})\n",
    "    frontal_plot = widgets.interactive_output(plot_frontal, {'slice_index': frontal_slider})\n",
    "    transversal_plot = widgets.interactive_output(plot_transversal, {'slice_index': transversal_slider})\n",
    "\n",
    "    # Arrange widgets in a horizontal box\n",
    "    ui = HBox([\n",
    "        VBox([sagittal_slider, sagittal_plot]),\n",
    "        VBox([frontal_slider, frontal_plot]),\n",
    "        VBox([transversal_slider, transversal_plot])\n",
    "    ])\n",
    "\n",
    "    display(ui)\n",
    "    "
   ]
  },
  {
   "cell_type": "code",
   "execution_count": 45,
   "metadata": {},
   "outputs": [],
   "source": [
    "def hole_find(binary_image_arg, invert = False, plot=False):\n",
    "\n",
    "    if invert:\n",
    "        holes = binary_fill_holes(binary_image_arg) & ~binary_image_arg\n",
    "    else:\n",
    "        holes = binary_fill_holes(binary_image_arg) & binary_image_arg\n",
    "\n",
    "    # Label connected hole regions\n",
    "    labeled_holes, num_holes = label(holes)\n",
    "\n",
    "    # Find hole centers\n",
    "    hole_centers = center_of_mass(holes, labeled_holes, range(1, num_holes + 1))\n",
    "\n",
    "    if plot:\n",
    "        # Plot results\n",
    "        plt.imshow(holes, cmap='gray')\n",
    "        plt.title(\"Binary Image with Holes\")\n",
    "\n",
    "        # Mark hole centers\n",
    "        for y, x in hole_centers:\n",
    "            plt.plot(x, y, 'ro', markersize=6)  # Red dot at the hole center\n",
    "\n",
    "        plt.show()\n",
    "\n",
    "        print(f\"Number of holes found: {num_holes}\")\n",
    "        print(f\"Hole centers: {hole_centers}\")\n",
    "    \n",
    "    return hole_centers"
   ]
  },
  {
   "cell_type": "code",
   "execution_count": 43,
   "metadata": {},
   "outputs": [],
   "source": [
    "def cut_body(new_arr, value, plot=False):\n",
    "    #Crop the image for the vertebra\n",
    "    temp, sagital_start, frontal_start, transversal_start = crop_image(new_arr)\n",
    "\n",
    "    # Example binary image (object with holes)\n",
    "    binary_image = (temp == value).astype(np.uint8) * 1\n",
    "    binary_image_trans = binary_image[:,:,int(temp.shape[2]/2)]\n",
    "\n",
    "    #For frontal they are organised (Sagital slice, Transversal)\n",
    "    #For transversal they are organised (Sagital, Frontal)\n",
    "    transversal_holes = hole_find(binary_image_trans, True, plot)\n",
    "\n",
    "    temp[:,0:int(np.floor(transversal_holes[0][1])),:] = 0\n",
    "    return temp, sagital_start, frontal_start, transversal_start\n",
    "\n",
    "def restore_array(original_array, cut_array, sagital_start, frontal_start, transversal_start, value):\n",
    "    return_array = np.copy(original_array)\n",
    "    sagital_end = sagital_start + cut_array.shape[0]\n",
    "    frontal_end = frontal_start + cut_array.shape[1]\n",
    "    transversal_end = transversal_start + cut_array.shape[2]\n",
    "\n",
    "    mask = (return_array[sagital_start:sagital_end, frontal_start:frontal_end, transversal_start:transversal_end] == value)\n",
    "    return_array[sagital_start:sagital_end, frontal_start:frontal_end, transversal_start:transversal_end][mask] = cut_array[mask]\n",
    "\n",
    "    return return_array\n"
   ]
  },
  {
   "cell_type": "code",
   "execution_count": 47,
   "metadata": {},
   "outputs": [
    {
     "data": {
      "application/vnd.jupyter.widget-view+json": {
       "model_id": "b2844ebbca1143769f4a827f9b4435a2",
       "version_major": 2,
       "version_minor": 0
      },
      "text/plain": [
       "HBox(children=(VBox(children=(IntSlider(value=24, description='Sagittal', max=34), Output())), VBox(children=(…"
      ]
     },
     "metadata": {},
     "output_type": "display_data"
    },
    {
     "data": {
      "application/vnd.jupyter.widget-view+json": {
       "model_id": "0ac337c814f340189f0d7979e7a50fc5",
       "version_major": 2,
       "version_minor": 0
      },
      "text/plain": [
       "HBox(children=(VBox(children=(IntSlider(value=161, description='Sagittal', max=310), Output())), VBox(children…"
      ]
     },
     "metadata": {},
     "output_type": "display_data"
    }
   ],
   "source": [
    "output_img_data = read_data()\n",
    "value = 32\n",
    "array = (output_img_data == value).astype(np.uint8) * value\n",
    "tmp, sagital_start, frontal_start, transversal_start = cut_body(array, value, plot=True)\n",
    "plot_segmentation(tmp, value)\n",
    "tmp2 = restore_array(output_img_data, tmp, sagital_start, frontal_start, transversal_start, value)\n",
    "plot_segmentation(tmp2, value)"
   ]
  },
  {
   "cell_type": "code",
   "execution_count": null,
   "metadata": {},
   "outputs": [
    {
     "name": "stdout",
     "output_type": "stream",
     "text": [
      "[26 27 28 29 30 31 32 33 34 35 36 37 38 39 40 41 42 43 44]\n"
     ]
    }
   ],
   "source": [
    "output_img_data = read_data()\n",
    "values = np.unique(output_img_data)\n",
    "values = values[1:]\n",
    "for value in values:\n",
    "    print(value)\n",
    "    array = (output_img_data == value).astype(np.uint8) * value\n",
    "    tmp, sagital_start, frontal_start, transversal_start = cut_body(array, value, plot=True)\n",
    "    output_img_data = restore_array(output_img_data, tmp, sagital_start, frontal_start, transversal_start, value)\n",
    "plot_segmentation(output_img_data)"
   ]
  },
  {
   "cell_type": "markdown",
   "metadata": {},
   "source": [
    "### Save results"
   ]
  },
  {
   "cell_type": "code",
   "execution_count": 106,
   "metadata": {},
   "outputs": [],
   "source": [
    "nii_img = nib.Nifti1Image(new_arr, affine=np.eye(4))  # Identity matrix as default affine\n",
    "\n",
    "# Save the NIfTI file\n",
    "nib.save(nii_img, r'Data\\\\s0011\\\\Cropped_segmentation.nii')"
   ]
  }
 ],
 "metadata": {
  "kernelspec": {
   "display_name": "TotalSegmentator",
   "language": "python",
   "name": "python3"
  },
  "language_info": {
   "codemirror_mode": {
    "name": "ipython",
    "version": 3
   },
   "file_extension": ".py",
   "mimetype": "text/x-python",
   "name": "python",
   "nbconvert_exporter": "python",
   "pygments_lexer": "ipython3",
   "version": "3.12.3"
  }
 },
 "nbformat": 4,
 "nbformat_minor": 4
}
