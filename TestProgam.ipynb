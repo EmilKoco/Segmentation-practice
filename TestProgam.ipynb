{
 "cells": [
  {
   "cell_type": "markdown",
   "metadata": {},
   "source": [
    "## Testing of the TotalSegmentator"
   ]
  },
  {
   "cell_type": "code",
   "execution_count": 1,
   "metadata": {},
   "outputs": [],
   "source": [
    "#Imports\n",
    "import nibabel as nib\n",
    "from totalsegmentator.python_api import totalsegmentator\n",
    "import os"
   ]
  },
  {
   "cell_type": "markdown",
   "metadata": {},
   "source": [
    "### The segmentation using totalsegmentator"
   ]
  },
  {
   "cell_type": "code",
   "execution_count": 11,
   "metadata": {},
   "outputs": [],
   "source": [
    "labels = None\n",
    "with open(\"Labels.txt\", 'r') as file:\n",
    "    labels = [line.rstrip() for line in file]\n",
    "print(labels)"
   ]
  },
  {
   "cell_type": "code",
   "execution_count": 13,
   "metadata": {},
   "outputs": [
    {
     "name": "stderr",
     "output_type": "stream",
     "text": [
      "100%|██████████| 12/12 [00:19<00:00,  1.64s/it]\n",
      "100%|██████████| 4/4 [00:53<00:00, 13.27s/it]\n"
     ]
    }
   ],
   "source": [
    "dir = os.getcwd()\n",
    "output_file = dir + \"\\\\Data\\\\s0011\\\\iamges\\\\\"\n",
    "print(os.path.exists(output_file))\n",
    "input_file = dir + \"/Data/s0011/ct.nii.gz\"\n",
    "print(os.path.exists(input_file))\n",
    "\n",
    "if __name__ == \"__main__\":\n",
    "    input_img = nib.load(input_file)\n",
    "    output_img = totalsegmentator(input_img, roi_subset=labels)\n",
    "    nib.save(output_img, output_file)"
   ]
  },
  {
   "cell_type": "markdown",
   "metadata": {},
   "source": [
    "# Slice rendering of segmentation\n",
    "which is easier to use"
   ]
  },
  {
   "cell_type": "code",
   "execution_count": 2,
   "metadata": {},
   "outputs": [
    {
     "data": {
      "application/vnd.jupyter.widget-view+json": {
       "model_id": "ccaad255c4fe4c829a2d5a585d5980e6",
       "version_major": 2,
       "version_minor": 0
      },
      "text/plain": [
       "interactive(children=(IntSlider(value=155, description='slice_index', max=310), Output()), _dom_classes=('widg…"
      ]
     },
     "metadata": {},
     "output_type": "display_data"
    }
   ],
   "source": [
    "import numpy as np\n",
    "import matplotlib.pyplot as plt\n",
    "from ipywidgets import interact\n",
    "import SimpleITK as sitk\n",
    "\n",
    "dir = os.getcwd()\n",
    "output_img = nib.load(dir + \"\\\\Data\\\\s0011\\\\iamges.nii\")\n",
    "\n",
    "# Convert to NumPy array\n",
    "output_img_data = np.array(output_img.dataobj)\n",
    "\n",
    "# Define a function to plot sagittal slices\n",
    "def plot_sagittal(slice_index):\n",
    "    plt.figure(figsize=(8, 8))\n",
    "    \n",
    "    # Sagittal slice (fixing the first axis, after flipping)\n",
    "    plt.imshow(output_img_data[slice_index, :, :], cmap='gray')\n",
    "    plt.title(f\"Sagittal Slice {slice_index}\")\n",
    "    plt.axis('off')\n",
    "    \n",
    "    plt.show()\n",
    "\n",
    "# Create an interactive slider for sagittal slices\n",
    "interact(plot_sagittal, slice_index=(0, output_img_data.shape[0] - 1));\n"
   ]
  },
  {
   "cell_type": "markdown",
   "metadata": {},
   "source": [
    "# 3D rendering of segmentation"
   ]
  },
  {
   "cell_type": "code",
   "execution_count": 5,
   "metadata": {
    "scrolled": true
   },
   "outputs": [],
   "source": [
    "import plotly.graph_objects as go\n",
    "import plotly.io as pio\n",
    "\n",
    "#pio.renderers.default = 'notebook'  # Use 'jupyterlab' if using JupyterLab\n",
    "\n",
    "fig = go.Figure(data=go.Volume(\n",
    "    x=np.arange(output_img_data.shape[0]).repeat(output_img_data.shape[1]*output_img_data.shape[2]),\n",
    "    y=np.tile(np.arange(output_img_data.shape[1]), output_img_data.shape[0]*output_img_data.shape[2]),\n",
    "    z=np.tile(np.arange(output_img_data.shape[2]), output_img_data.shape[0]*output_img_data.shape[1]),\n",
    "    value=output_img_data.flatten(),\n",
    "    isomin=np.min(output_img_data),\n",
    "    isomax=np.max(output_img_data),\n",
    "    opacity=0.1, # Adjust for transparency\n",
    "    surface_count=10 # Number of contour surfaces\n",
    "))\n",
    "fig.show()"
   ]
  }
 ],
 "metadata": {
  "kernelspec": {
   "display_name": "Python 3 (ipykernel)",
   "language": "python",
   "name": "python3"
  },
  "language_info": {
   "codemirror_mode": {
    "name": "ipython",
    "version": 3
   },
   "file_extension": ".py",
   "mimetype": "text/x-python",
   "name": "python",
   "nbconvert_exporter": "python",
   "pygments_lexer": "ipython3",
   "version": "3.12.3"
  }
 },
 "nbformat": 4,
 "nbformat_minor": 4
}
